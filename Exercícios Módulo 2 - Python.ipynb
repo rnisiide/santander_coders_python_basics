{
 "cells": [
  {
   "cell_type": "code",
   "execution_count": 29,
   "id": "17a8682b",
   "metadata": {},
   "outputs": [
    {
     "name": "stdout",
     "output_type": "stream",
     "text": [
      "Digite uma lista de números, separando-os em vírgulas. Ex: 2, 4, 7, 8, 10 2,4,6,8,10,12\n",
      "2 é par\n",
      "4 é par\n",
      "6 é par\n",
      "8 é par\n",
      "10 é par\n",
      "12 é par\n",
      "O total de números pares na sua lista é 6.\n"
     ]
    }
   ],
   "source": [
    "# 1. Faça um programa que olhe todos os itens de uma lista e diga quantos deles são pares.\n",
    "\n",
    "itens = input('Digite uma lista de números, separando-os em vírgulas. Ex: 2, 4, 7, 8, 10: ')\n",
    "lista = list(itens.split(\",\"))\n",
    "contagem = 0\n",
    "for numero in lista:\n",
    "    if int(numero) % 2 == 0:\n",
    "        print(f'{numero} é par')\n",
    "        contagem = contagem + 1\n",
    "    else:\n",
    "        print(f'{numero} é impar')\n",
    "\n",
    "print(f'O total de números pares na sua lista é {contagem}.')"
   ]
  },
  {
   "cell_type": "code",
   "execution_count": 1,
   "id": "3651e996",
   "metadata": {},
   "outputs": [
    {
     "name": "stdout",
     "output_type": "stream",
     "text": [
      "Digite uma palavra: amor\n",
      "As letras dessa palavra são: \n",
      "a\n",
      "m\n",
      "o\n",
      "r\n"
     ]
    }
   ],
   "source": [
    "# 2. Faça um programa que peça para o usuário digitar uma palavra e imprima cada letra em uma linha.\n",
    "\n",
    "palavra = input('Digite uma palavra: ')\n",
    "print('As letras dessa palavra são: ')\n",
    "for letra in palavra:\n",
    "    print(letra)"
   ]
  },
  {
   "cell_type": "code",
   "execution_count": 34,
   "id": "39cdea58",
   "metadata": {},
   "outputs": [
    {
     "name": "stdout",
     "output_type": "stream",
     "text": [
      "Escolha três números, separando-os em vírgulas. Ex: 2, 4, 7 1,4,3\n",
      "Escolha outros três números, separando-os em vírgulas. Ex: 9, 12, 8 3,5,1\n",
      "[4, 9, 4]\n"
     ]
    }
   ],
   "source": [
    "# 3. Faça uma função que recebe duas listas e retorna a soma item a item dessas listas.\n",
    "# Exemplo: Se a função receber as listas [1,4,3] e [3,5,1], então a função deve retornar [1+3, 4+5, 3+1] = [4, 9, 4].\n",
    "\n",
    "escolha1 = input('Escolha três números, separando-os em vírgulas. Ex: 2, 4, 7 ')\n",
    "escolha2 = input('Escolha outros três números, separando-os em vírgulas. Ex: 9, 12, 8 ')\n",
    "lista1 = list(escolha1.split(\",\"))\n",
    "lista2 = list(escolha2.split(\",\"))\n",
    "nova_lista = [int(lista1[0]) + int(lista2[0]), int(lista1[1]) + int(lista2[1]), int(lista1[2]) + int(lista2[2])]\n",
    "print(nova_lista)"
   ]
  },
  {
   "cell_type": "code",
   "execution_count": 8,
   "id": "8c87eb2a",
   "metadata": {},
   "outputs": [],
   "source": [
    "# 4. Crie um dicionário cujas chaves são os meses do ano e os valores são a duração (em dias) de cada mês.\n",
    "\n",
    "meses_ano = {\n",
    "    'Janeiro': 31,\n",
    "    'Fevereiro': 28,\n",
    "    'Março': 31,\n",
    "    'Abril': 30,\n",
    "    'Maio': 31,\n",
    "    'Junho': 30,\n",
    "    'Julho': 31,\n",
    "    'Agosto': 31,\n",
    "    'Setembro': 30,\n",
    "    'Outubro': 31,\n",
    "    'Novembro': 30,\n",
    "    'Dezembro': 31,    \n",
    "}\n"
   ]
  },
  {
   "cell_type": "code",
   "execution_count": 14,
   "id": "98437905",
   "metadata": {},
   "outputs": [
    {
     "name": "stdout",
     "output_type": "stream",
     "text": [
      "Janeiro - 31\n",
      "Fevereiro - 28\n",
      "Março - 31\n",
      "Abril - 30\n",
      "Maio - 31\n",
      "Junho - 30\n",
      "Julho - 31\n",
      "Agosto - 31\n",
      "Setembro - 30\n",
      "Outubro - 31\n",
      "Novembro - 30\n",
      "Dezembro - 31\n"
     ]
    }
   ],
   "source": [
    "# 5. Imprima as chaves seguidas dos seus valores para dicionário criado no exercício anterior.\n",
    "# Exemplo: Janeiro - 31 / Fevereiro - 28 / Março - 31 / Etc...\n",
    "\n",
    "for chave in meses_ano:\n",
    "    print(f'{chave} - {meses_ano[chave]}')"
   ]
  },
  {
   "cell_type": "code",
   "execution_count": null,
   "id": "28472db2",
   "metadata": {},
   "outputs": [],
   "source": []
  }
 ],
 "metadata": {
  "kernelspec": {
   "display_name": "Python 3 (ipykernel)",
   "language": "python",
   "name": "python3"
  },
  "language_info": {
   "codemirror_mode": {
    "name": "ipython",
    "version": 3
   },
   "file_extension": ".py",
   "mimetype": "text/x-python",
   "name": "python",
   "nbconvert_exporter": "python",
   "pygments_lexer": "ipython3",
   "version": "3.10.7"
  }
 },
 "nbformat": 4,
 "nbformat_minor": 5
}
