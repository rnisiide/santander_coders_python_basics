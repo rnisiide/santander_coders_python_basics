{
 "cells": [
  {
   "cell_type": "code",
   "execution_count": 4,
   "id": "d3d453cd",
   "metadata": {},
   "outputs": [],
   "source": [
    "import csv"
   ]
  },
  {
   "cell_type": "code",
   "execution_count": 10,
   "id": "6b85553a",
   "metadata": {},
   "outputs": [
    {
     "name": "stdout",
     "output_type": "stream",
     "text": [
      "['RA', 'Nome', 'Frequencia', 'Prova_1', 'Prova_2', 'Prova_3', 'Prova_4']\n",
      "['110201', 'Antonio Carlos', '20', '6.5', '8.5', '7', '6']\n",
      "['110212', 'Ana Beatriz', '20', '7', '7', '7', '8']\n",
      "['110218', 'Carlos Vernes', '17', '7', '7', '7', '7']\n",
      "['110307', 'Francisco Cunha', '20', '9', '8.5', '8.5', '10']\n",
      "['110275', 'Sandra Rosa', '15', '6.5', '7.5', '7', '7']\n",
      "['110281', 'Juliana Arruda', '18', '7.5', '7', '7.5', '8']\n",
      "['110301', 'Joao Galo', '20', '5', '6.5', '7', '5']\n",
      "['110263', 'José Valente', '20', '10', '10', '10', '10']\n",
      "['110271', 'Maria Ferreira', '19', '9.5', '8', '7', '10']\n",
      "['110236', 'Adriana Tavares', '20', '8', '8', '8', '8']\n"
     ]
    }
   ],
   "source": [
    "# 1 - Neste exercício você deve criar um programa que abra o arquivo \"alunos.csv\" e imprima o conteúdo do arquivo linha a linha.\n",
    "# Note que esse é o primeiro exercício de uma sequência, então o seu código pode ser reaproveitado nos exercícios seguintes. \n",
    "# Dito isso, a recomendação é usar a biblioteca CSV para ler o arquivo mesmo que não seja realmente necessário \n",
    "# para esse primeiro item.\n",
    "\n",
    "with open('alunos.csv', 'r', encoding='utf-8') as dados:\n",
    "    leitor = csv.reader(dados)\n",
    "    for linha in leitor:\n",
    "        print(linha)"
   ]
  },
  {
   "cell_type": "code",
   "execution_count": 64,
   "id": "06ad09d2",
   "metadata": {},
   "outputs": [
    {
     "name": "stdout",
     "output_type": "stream",
     "text": [
      "['RA', 'Nome', 'Frequencia', 'Prova_1', 'Prova_2', 'Prova_3', 'Prova_4']\n",
      "['110201', 'Antonio Carlos', '20', '6.5', '8.5', '7', '6']\n",
      "['110212', 'Ana Beatriz', '20', '7', '7', '7', '8']\n",
      "['110218', 'Carlos Vernes', '17', '7', '7', '7', '7']\n",
      "['110307', 'Francisco Cunha', '20', '9', '8.5', '8.5', '10']\n",
      "['110275', 'Sandra Rosa', '15', '6.5', '7.5', '7', '7']\n",
      "['110281', 'Juliana Arruda', '18', '7.5', '7', '7.5', '8']\n",
      "['110301', 'Joao Galo', '20', '5', '6.5', '7', '5']\n",
      "['110263', 'José Valente', '20', '10', '10', '10', '10']\n",
      "['110271', 'Maria Ferreira', '19', '9.5', '8', '7', '10']\n",
      "['110236', 'Adriana Tavares', '20', '8', '8', '8', '8']\n"
     ]
    }
   ],
   "source": [
    "# 2 - Para o segundo exercício, você deve criar um programa que realize uma cópia do arquivo \"alunos.csv\". \n",
    "#     Essa cópia deve ser um arquivo chamado \"alunos_copia.csv\".\n",
    "#     Novamente, aqui você também não precisa utilizar a biblioteca CSV mas se usar, \n",
    "#     seu código pode ser reutilizado na próxima questão sem muitas modificações.\n",
    "\n",
    "novo_arquivo = []\n",
    "with open('alunos.csv', 'r', encoding='utf-8') as dados:\n",
    "    leitor = csv.reader(dados)\n",
    "    for linha in leitor:\n",
    "        novo_arquivo.append(linha)\n",
    "\n",
    "with open('alunos_copia.csv', 'w', newline='') as file:\n",
    "    writer = csv.writer(file)\n",
    "    writer.writerows(novo_arquivo)\n",
    "\n",
    "with open('alunos_copia.csv', 'r') as novos_dados:\n",
    "    novo_leitor = csv.reader(novos_dados)\n",
    "    for nova_linha in novo_leitor:\n",
    "        print(nova_linha)"
   ]
  },
  {
   "cell_type": "code",
   "execution_count": 66,
   "id": "2edd93a4",
   "metadata": {},
   "outputs": [
    {
     "name": "stdout",
     "output_type": "stream",
     "text": [
      "[['RA', 'Nome', 'Frequencia', 'Prova_1', 'Prova_2', 'Prova_3', 'Prova_4', 'Média'], ['110201', 'Antonio Carlos', '20', '6.5', '8.5', '7', '6', 7.0], ['110212', 'Ana Beatriz', '20', '7', '7', '7', '8', 7.25], ['110218', 'Carlos Vernes', '17', '7', '7', '7', '7', 7.0], ['110307', 'Francisco Cunha', '20', '9', '8.5', '8.5', '10', 9.0], ['110275', 'Sandra Rosa', '15', '6.5', '7.5', '7', '7', 7.0], ['110281', 'Juliana Arruda', '18', '7.5', '7', '7.5', '8', 7.5], ['110301', 'Joao Galo', '20', '5', '6.5', '7', '5', 5.875], ['110263', 'José Valente', '20', '10', '10', '10', '10', 10.0], ['110271', 'Maria Ferreira', '19', '9.5', '8', '7', '10', 8.625], ['110236', 'Adriana Tavares', '20', '8', '8', '8', '8', 8.0]]\n"
     ]
    }
   ],
   "source": [
    "# 3 - Finalmente chegamos ao último exercício dessa sequência relacionada à manipulação de arquivos.\n",
    "#     Neste exercício você deve criar um novo arquivo chamado \"alunos_media.csv\". \n",
    "#     Esse novo arquivo é uma cópia de \"alunos.csv\" porém com uma coluna a mais chamada \"Média\"\n",
    "#     que vai abrigar os valores das médias das provas de cada aluno da lista.\n",
    "#     Se você utilizou a biblioteca CSV para realizar os dois primeiros exercícios, muito será reaproveitado aqui. \n",
    "#     A biblioteca CSV permite a interpretação de cada linha como listas, que são fáceis de manipular.\n",
    "\n",
    "media_arquivo = []\n",
    "with open('alunos.csv', 'r', encoding='utf-8') as dados:\n",
    "    leitor = csv.reader(dados)\n",
    "    for linha in leitor:\n",
    "        media_arquivo.append(linha)\n",
    "        \n",
    "media_arquivo[0].append('Média')\n",
    "for i in range(1, len(media_arquivo)):\n",
    "    media = (float(media_arquivo[i][3])+float(media_arquivo[i][4]) + float(media_arquivo[i][5]) + float(media_arquivo[i][6]))/4\n",
    "    media_arquivo[i].append(media)\n",
    "\n",
    "print(media_arquivo)\n",
    "\n",
    "with open('alunos_media.csv', 'w', newline='') as file:\n",
    "    writer = csv.writer(file)\n",
    "    writer.writerows(media_arquivo)"
   ]
  },
  {
   "cell_type": "code",
   "execution_count": 83,
   "id": "ffd9d991",
   "metadata": {},
   "outputs": [
    {
     "name": "stdout",
     "output_type": "stream",
     "text": [
      "O nome dele é Darth Vader.\n",
      "Sua altura é 202 cm.\n",
      "Seu peso é 136 kg.\n",
      "Ele nasceu no ano de 41.9BBY\n"
     ]
    }
   ],
   "source": [
    "# 4 - Você conhece Star Wars? Se trata, obviamente, da famosa saga espacial\n",
    "#     criada por George Lucas em 1977 e que deu origem a símbolos do cinema e\n",
    "#     da cultura pop com o imponente vilão Darth Vader ou o simpático robô\n",
    "#     R2-D2. A ideia desse exercício é justamente extrair informações do\n",
    "#     personagem Darth Vader através de uma API de Star Wars chamada SWAPI.\n",
    "#     Utilize a URL \"https://swapi.dev/api/people/4/\" para fazer a requisição dos\n",
    "#     dados de Darth Vader e extraia as informações \"name\" (nome), \"height\"\n",
    "#     (altura), \"mass\" (massa) e \"birth_year\" (ano de nascimento) e imprima cada dado em uma linha.\n",
    "#     Dica: caso não se lembre de como fazer isso, assista novamente a aula sobre API porque o exemplo da aula pode te ajudar.\n",
    "\n",
    "import requests as r\n",
    "url = 'https://swapi.dev/api/people/4/'\n",
    "resp = r.get(url)\n",
    "raw_data = resp.json()\n",
    "print(f'O nome dele é {raw_data[\"name\"]}.\\nSua altura é {raw_data[\"height\"]} cm.\\nSeu peso é {raw_data[\"mass\"]} kg.\\nEle nasceu no ano de {raw_data[\"birth_year\"]}')\n",
    "\n"
   ]
  },
  {
   "cell_type": "code",
   "execution_count": 107,
   "id": "f24233b8",
   "metadata": {},
   "outputs": [
    {
     "name": "stdout",
     "output_type": "stream",
     "text": [
      "O primeiro caso confirmado no Brasil foi no dia 26/02/2020.\n"
     ]
    }
   ],
   "source": [
    "# 5 - Em 2019 surgiram os primeiros casos de COVID-19 que se alastrou pelo\n",
    "#     mundo resultando numa pandemia. A proposta deste exercício é utilizar\n",
    "#     uma API com informações de COVID-19 do mundo todo desde o início da\n",
    "#     proliferação e descobrir que dia o Brasil confirmou o primeiro caso de Coronavírus.\n",
    "#     Para fazer isso, utilize a URL \"https://api.covid19api.com/country/brazil\" em seu\n",
    "#     código. Ela retorna uma lista de dicionários, onde cada dicionário traz informações através das chaves:\n",
    "#     \"ID\", \"Country\", \"CountryCode\", \"Province\", \"City\",\n",
    "#     \"CityCode\",\"Lat\",\"Lon\",\"Confirmed\",\"Deaths\", \"Recovered\", \"Active\" e \"Date\".\n",
    "#     Utilize essas informações e retorne a data em que o Brasil confirmou o primeiro caso de COVID.\n",
    "\n",
    "import datetime as dt\n",
    "url_covid = 'https://api.covid19api.com/country/brazil'\n",
    "resp_covid = r.get(url_covid)\n",
    "raw_data_covid = resp_covid.json()\n",
    "\n",
    "dias_confirmados = []\n",
    "for dia in raw_data_covid:\n",
    "    if dia['Confirmed'] != 0:\n",
    "        dias_confirmados.append([dia['Confirmed'], dia['Date']])\n",
    " \n",
    "\n",
    "for i in range(0, len(dias_confirmados)):\n",
    "    dias_confirmados[i][1] = dias_confirmados[i][1][:10]\n",
    "    dias_confirmados[i][1] = dt.datetime.strptime(dias_confirmados[i][1], '%Y-%m-%d')\n",
    "\n",
    "print(f'O primeiro caso confirmado no Brasil foi no dia {dias_confirmados[0][1].strftime(\"%d/%m/%Y\")}.')"
   ]
  },
  {
   "cell_type": "code",
   "execution_count": null,
   "id": "32a421c5",
   "metadata": {},
   "outputs": [],
   "source": []
  }
 ],
 "metadata": {
  "kernelspec": {
   "display_name": "Python 3 (ipykernel)",
   "language": "python",
   "name": "python3"
  },
  "language_info": {
   "codemirror_mode": {
    "name": "ipython",
    "version": 3
   },
   "file_extension": ".py",
   "mimetype": "text/x-python",
   "name": "python",
   "nbconvert_exporter": "python",
   "pygments_lexer": "ipython3",
   "version": "3.10.7"
  }
 },
 "nbformat": 4,
 "nbformat_minor": 5
}
