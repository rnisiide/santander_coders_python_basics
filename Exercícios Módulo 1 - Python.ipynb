{
 "cells": [
  {
   "cell_type": "code",
   "execution_count": 7,
   "id": "f5debac0",
   "metadata": {},
   "outputs": [
    {
     "name": "stdout",
     "output_type": "stream",
     "text": [
      "Escolha um valor: 63\n",
      "Você tinha: R$ 63\n",
      "Porém, devido à inflação você acabou de perder 15% do valor.\n",
      "O novo valor é R$ 53.55\n"
     ]
    }
   ],
   "source": [
    "# 1. Faça um programa que peça um valor monetário e diminua-o em 15%. Seu\n",
    "# programa deve imprimir a mensagem “O novo valor é [valor]”.\n",
    "\n",
    "valor = input(\"Escolha um valor: \")\n",
    "novo_valor = int(valor) * 0.85\n",
    "print(\"Você tinha: R$\", valor)\n",
    "print(\"Porém, devido à inflação você acabou de perder 15% do valor.\")\n",
    "print(\"O novo valor é R$\", novo_valor)\n"
   ]
  },
  {
   "cell_type": "code",
   "execution_count": 31,
   "id": "101b0996",
   "metadata": {},
   "outputs": [
    {
     "name": "stdout",
     "output_type": "stream",
     "text": [
      "Qual a sua idade? Você deve ter entre 0 e 150 anos.1\n",
      "Idade validada! Next question!!\n",
      "Qual o seu salário?2\n",
      "Salário validado! Next question!!\n",
      "Qual o seu gênero? M, F ou Outro?m\n",
      "m\n",
      "Done!!\n"
     ]
    }
   ],
   "source": [
    "# 2. Faça um programa que leia a validade das informações:\n",
    "#     a. Idade: entre 0 e 150;\n",
    "#     b. Salário: maior que 0;\n",
    "#     c. Sexo: M, F ou Outro;\n",
    "# O programa deve imprimir uma mensagem de erro para cada informação inválida.\n",
    "\n",
    "idade = input(\"Qual a sua idade? Você deve ter entre 0 e 150 anos.\")\n",
    "while 0 < int(idade) > 150:\n",
    "    idade = input(\"Idade inválida! Escolha um valor entre 0 e 150: \")   \n",
    "print(\"Idade validada! Next question!!\")\n",
    "    \n",
    "salario = input(\"Qual o seu salário?\")\n",
    "while int(salario) < 0:\n",
    "    salario = input(\"Você não ganha nada? O seu salário não pode ser negativo! Digite um valor maior que zero: \")\n",
    "print(\"Salário validado! Next question!!\")\n",
    "\n",
    "\n",
    "genero = input(\"Qual o seu gênero? M, F ou Outro? \")\n",
    "while (genero.lower() != 'm') and (genero.lower() != 'f') and (genero.lower() != 'outro'):\n",
    "    genero = input(\"Escolha um dos gêneros, entre M, F ou Outro \")\n",
    "print(\"Done!!\")"
   ]
  },
  {
   "cell_type": "code",
   "execution_count": 10,
   "id": "0802947d",
   "metadata": {},
   "outputs": [
    {
     "name": "stdout",
     "output_type": "stream",
     "text": [
      "Responda com \"Sim\" ou \"Não\" às perguntas abaixo\n",
      "1. Mora perto da vítima? sim\n",
      "2. Já trabalhou com a vítima? SIM\n",
      "3. Telefonou para a vítima? sIm\n",
      "4. Esteve no local do crime? SiM\n",
      "5. Devia para a vítima? SIM\n",
      "VOCÊ É O ASSASSINO!! ESTEJE PRESO!!\n"
     ]
    }
   ],
   "source": [
    "# 3. Vamos fazer um programa para verificar quem é o assassino de um crime.\n",
    "#    Para descobrir o assassino, a polícia faz um pequeno questionário com 5\n",
    "#    perguntas onde a resposta só pode ser sim ou não:\n",
    "#     a. Mora perto da vítima?\n",
    "#     b. Já trabalhou com a vítima?\n",
    "#     c. Telefonou para a vítima?\n",
    "#     d. Esteve no local do crime?\n",
    "#     e. Devia para a vítima?\n",
    "#    Cada resposta sim dá um ponto para o suspeito. A polícia considera que os\n",
    "#    suspeitos com 5 pontos são os assassinos, com 4 a 3 pontos são cúmplices e\n",
    "#    2 pontos são apenas suspeitos, necessitando outras investigações. Valores\n",
    "#    iguais ou abaixo de 1 são liberados.\n",
    "\n",
    "print('Responda com \"Sim\" ou \"Não\" às perguntas abaixo')\n",
    "pergunta1 = input(\"1. Mora perto da vítima? \")\n",
    "pergunta2 = input(\"2. Já trabalhou com a vítima? \")\n",
    "pergunta3 = input(\"3. Telefonou para a vítima? \")\n",
    "pergunta4 = input(\"4. Esteve no local do crime? \")\n",
    "pergunta5 = input(\"5. Devia para a vítima? \")\n",
    "contagem = 0\n",
    "if pergunta1.lower() == \"sim\":\n",
    "    contagem = contagem + 1\n",
    "if pergunta2.lower() == \"sim\":\n",
    "    contagem = contagem + 1\n",
    "if pergunta3.lower() == \"sim\":\n",
    "    contagem = contagem + 1\n",
    "if pergunta4.lower() == \"sim\":\n",
    "    contagem = contagem + 1\n",
    "if pergunta5.lower() == \"sim\":\n",
    "    contagem = contagem + 1\n",
    "if contagem < 2:\n",
    "    print(\"Nada aconteceu. Pode voltar para casa\")        \n",
    "elif contagem == 2:\n",
    "    print(\"Você é um suspeito. Venha para interrogatório\")\n",
    "elif 2 < contagem < 5:\n",
    "    print(\"Você é cúmplice do assassino! VENHA JÁ AQUI!!\")\n",
    "else:\n",
    "    print(\"VOCÊ É O ASSASSINO!! ESTEJE PRESO!!\")"
   ]
  },
  {
   "cell_type": "code",
   "execution_count": 16,
   "id": "6a80576a",
   "metadata": {},
   "outputs": [
    {
     "name": "stdout",
     "output_type": "stream",
     "text": [
      "9 x 1 = 9\n",
      "9 x 2 = 18\n",
      "9 x 3 = 27\n",
      "9 x 4 = 36\n",
      "9 x 5 = 45\n",
      "9 x 6 = 54\n",
      "9 x 7 = 63\n",
      "9 x 8 = 72\n",
      "9 x 9 = 81\n",
      "9 x 10 = 90\n"
     ]
    }
   ],
   "source": [
    "# 4. Faça um programa que imprima a tabuada do 9 (de 9*1 a 9*10) usando loops.\n",
    "\n",
    "contador = 1\n",
    "while contador <= 10:\n",
    "    print('9 x {contador} =', contador * 9)\n",
    "    contador = contador + 1"
   ]
  },
  {
   "cell_type": "code",
   "execution_count": null,
   "id": "c20df60c",
   "metadata": {},
   "outputs": [],
   "source": []
  },
  {
   "cell_type": "code",
   "execution_count": null,
   "id": "caabfe84",
   "metadata": {},
   "outputs": [],
   "source": []
  }
 ],
 "metadata": {
  "kernelspec": {
   "display_name": "Python 3 (ipykernel)",
   "language": "python",
   "name": "python3"
  },
  "language_info": {
   "codemirror_mode": {
    "name": "ipython",
    "version": 3
   },
   "file_extension": ".py",
   "mimetype": "text/x-python",
   "name": "python",
   "nbconvert_exporter": "python",
   "pygments_lexer": "ipython3",
   "version": "3.10.7"
  }
 },
 "nbformat": 4,
 "nbformat_minor": 5
}
